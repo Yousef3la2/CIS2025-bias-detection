{
 "cells": [
  {
   "cell_type": "code",
   "execution_count": null,
   "id": "6a3ebe0e",
   "metadata": {},
   "outputs": [],
   "source": [
    "import pandas as pd\n",
    "import numpy as np\n",
    "import matplotlib.pyplot as plt\n",
    "import seaborn as sns\n",
    "from sklearn.preprocessing import StandardScaler\n",
    "from sklearn.model_selection import train_test_split\n",
    "from sklearn.preprocessing import LabelEncoder\n",
    "from sklearn.ensemble import RandomForestClassifier\n",
    "from sklearn.metrics import classification_report\n"
   ]
  },
  {
   "cell_type": "code",
   "execution_count": null,
   "id": "fcc41c5f",
   "metadata": {},
   "outputs": [],
   "source": [
    "df = pd.read_excel(\"data.xlsx\")"
   ]
  },
  {
   "cell_type": "code",
   "execution_count": null,
   "id": "36f6ed4c",
   "metadata": {},
   "outputs": [],
   "source": [
    "X = df.drop(columns=['HiringDecision', 'Gender'])\n",
    "y = df['HiringDecision']\n",
    "gender = df['Gender']\n",
    "\n",
    "X_train, X_test, y_train, y_test, gender_train, gender_test = train_test_split(\n",
    "    X, y, gender, test_size=0.2, random_state=42, stratify=gender\n",
    ")\n"
   ]
  },
  {
   "cell_type": "code",
   "execution_count": null,
   "id": "5dd4a828",
   "metadata": {},
   "outputs": [],
   "source": [
    "clf = RandomForestClassifier()\n",
    "clf.fit(X_train, y_train)\n",
    "\n",
    "y_pred = clf.predict(X_test)\n",
    "\n",
    "print(classification_report(y_test, y_pred))\n"
   ]
  },
  {
   "cell_type": "code",
   "execution_count": null,
   "id": "d934865f",
   "metadata": {},
   "outputs": [],
   "source": [
    "def demographic_parity(preds, genders):\n",
    "    male_accept_rate = np.mean(preds[genders == 'Male'])\n",
    "    female_accept_rate = np.mean(preds[genders == 'Female'])\n",
    "    return male_accept_rate, female_accept_rate, abs(male_accept_rate - female_accept_rate)\n",
    "\n",
    "male_rate, female_rate, dp_diff = demographic_parity(y_pred, gender_test.reset_index(drop=True))\n",
    "print(\"Demographic Parity:\")\n",
    "print(f\"Male Accept Rate: {male_rate:.2f}\")\n",
    "print(f\"Female Accept Rate: {female_rate:.2f}\")\n",
    "print(f\"Difference: {dp_diff:.2f}\")\n",
    "print(\"X_test shape:\", X_test.shape)\n",
    "print(\"shap_values shape:\", np.array(shap_values).shape)\n",
    "\n"
   ]
  },
  {
   "cell_type": "code",
   "execution_count": null,
   "id": "1dcd4e20",
   "metadata": {},
   "outputs": [],
   "source": [
    "explainer = shap.TreeExplainer(clf)\n",
    "shap_values = explainer.shap_values(X_test)\n",
    "\n",
    "\n",
    "X_test = pd.DataFrame(X_test, columns=X.columns)\n",
    "\n",
    "shap.summary_plot(shap_values[:, :, 1], X_test)\n",
    "\n"
   ]
  },
  {
   "cell_type": "code",
   "execution_count": null,
   "id": "ee196adb",
   "metadata": {},
   "outputs": [],
   "source": [
    "sample_weights = gender_train.apply(lambda g: 1.5 if g == 'Female' else 1.0).values\n"
   ]
  },
  {
   "cell_type": "code",
   "execution_count": null,
   "id": "32285199",
   "metadata": {},
   "outputs": [],
   "source": [
    "clf_debiased = RandomForestClassifier()\n",
    "clf_debiased.fit(X_train, y_train, sample_weight=sample_weights)"
   ]
  },
  {
   "cell_type": "code",
   "execution_count": null,
   "id": "ce7911e2",
   "metadata": {},
   "outputs": [],
   "source": [
    "y_pred_debiased = clf_debiased.predict(X_test)\n",
    "\n",
    "print(\"📋 Classification Report (After dilution):\")\n",
    "print(classification_report(y_test, y_pred_debiased))\n"
   ]
  },
  {
   "cell_type": "code",
   "execution_count": null,
   "id": "f2c25321",
   "metadata": {},
   "outputs": [],
   "source": [
    "male_rate, female_rate, dp_diff = demographic_parity(y_pred_debiased, gender_test.reset_index(drop=True))\n",
    "print(\" Demographic Parity After dilution:\")\n",
    "print(f\"Male Accept Rate: {male_rate:.2f}\")\n",
    "print(f\"Female Accept Rate: {female_rate:.2f}\")\n",
    "print(f\"Difference: {dp_diff:.2f}\")\n"
   ]
  }
 ],
 "metadata": {
  "kernelspec": {
   "display_name": "Python 3",
   "language": "python",
   "name": "python3"
  },
  "language_info": {
   "codemirror_mode": {
    "name": "ipython",
    "version": 3
   },
   "file_extension": ".py",
   "mimetype": "text/x-python",
   "name": "python",
   "nbconvert_exporter": "python",
   "pygments_lexer": "ipython3",
   "version": "3.12.2"
  }
 },
 "nbformat": 4,
 "nbformat_minor": 5
}
